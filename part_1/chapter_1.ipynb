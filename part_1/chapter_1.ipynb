{
 "cells": [
  {
   "cell_type": "markdown",
   "id": "working-chess",
   "metadata": {},
   "source": [
    "- One of the most important advantages of using Version Control is teamwork.\n",
    "- A VCS can be local, centralized, or distributed.\n",
    "- Linux kernel developers were using BitKeeper SCM as a Version Control System. In 2005 BitKeeper SCM stopped being free. Since it was closed source, the developers lost their favorite Version Control System. The community (led by Linus Torvalds) had to find another VCS, and since an alternative was not available, they decided to create their own. Thus, Git was born."
   ]
  },
  {
   "cell_type": "markdown",
   "id": "anonymous-marriage",
   "metadata": {},
   "source": [
    "- Unlike many Version Control Systems, Git works with Snapshots, not Differences. This means that it does not track the difference between two versions of a file, but takes a picture of the current state of the project.\n",
    "\n",
    "- The main feature of Git is its “Three States” system. The states are the working directory, the staging area, and the git directory:\n",
    "\n",
    "• The working directory is just the current snapshot that you are working on.\n",
    "• The staging area is where modified files are marked in their current\n",
    "version, ready to be stored in the database.\n",
    "• The git directory is the database where the history is stored.\n",
    "So, basically Git works as follows: you modify the files, add each file you want to\n",
    "include in the snapshot to the staging area (git add), then take the snapshot and add\n",
    "them to the database (git commit). For the terminology, we call a modified file added\n",
    "to the staging area “staged” and a file added to the database “committed.” So, a file goes\n",
    "from “modified” to “staged” to “committed."
   ]
  },
  {
   "cell_type": "code",
   "execution_count": null,
   "id": "durable-chicken",
   "metadata": {},
   "outputs": [],
   "source": []
  },
  {
   "cell_type": "code",
   "execution_count": null,
   "id": "mysterious-biodiversity",
   "metadata": {},
   "outputs": [],
   "source": []
  },
  {
   "cell_type": "code",
   "execution_count": null,
   "id": "differential-payday",
   "metadata": {},
   "outputs": [],
   "source": []
  }
 ],
 "metadata": {
  "kernelspec": {
   "display_name": "Python 3",
   "language": "python",
   "name": "python3"
  },
  "language_info": {
   "codemirror_mode": {
    "name": "ipython",
    "version": 3
   },
   "file_extension": ".py",
   "mimetype": "text/x-python",
   "name": "python",
   "nbconvert_exporter": "python",
   "pygments_lexer": "ipython3",
   "version": "3.6.9"
  }
 },
 "nbformat": 4,
 "nbformat_minor": 5
}
