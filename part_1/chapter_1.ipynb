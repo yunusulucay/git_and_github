{
 "cells": [
  {
   "cell_type": "markdown",
   "id": "working-chess",
   "metadata": {},
   "source": [
    "- One of the most important advantages of using Version Control is teamwork.\n",
    "- A VCS can be local, centralized, or distributed.\n",
    "- Linux kernel developers were using BitKeeper SCM as a Version Control System. In 2005 BitKeeper SCM stopped being free. Since it was closed source, the developers lost their favorite Version Control System. The community (led by Linus Torvalds) had to find another VCS, and since an alternative was not available, they decided to create their own. Thus, Git was born."
   ]
  },
  {
   "cell_type": "markdown",
   "id": "anonymous-marriage",
   "metadata": {},
   "source": [
    "- Unlike many Version Control Systems, Git works with Snapshots, not Differences. This means that it does not track the difference between two versions of a file, but takes a picture of the current state of the project.\n",
    "\n",
    "\n",
    "- The main feature of Git is its “Three States” system. The states are the working directory, the staging area, and the git directory:\n",
    "\n",
    "    - The working directory is just the current snapshot that you are working on.\n",
    "    \n",
    "    - The staging area is where modified files are marked in their current version, ready to be stored in the database.\n",
    "    \n",
    "    - The git directory is the database where the history is stored. \n",
    "    \n",
    "- So, basically Git works as follows: you modify the files, add each file you want to include in the snapshot to the staging area (git add), then take the snapshot and add them to the database (git commit). For the terminology, we call a modified file added to the staging area “staged” and a file added to the database “committed.” So, a file goes from “modified” to “staged” to “committed.\n",
    "    "
   ]
  },
  {
   "cell_type": "code",
   "execution_count": 1,
   "id": "durable-chicken",
   "metadata": {},
   "outputs": [],
   "source": [
    "# Clone the repository\n",
    "# git clone <github_repo_name.git>"
   ]
  },
  {
   "cell_type": "code",
   "execution_count": 2,
   "id": "mysterious-biodiversity",
   "metadata": {},
   "outputs": [],
   "source": [
    "# If you want to check the recent changes made to the project, you can use the “log”\n",
    "# command to show the history. \n",
    "# Enter the repo folder > git log"
   ]
  },
  {
   "cell_type": "markdown",
   "id": "smaller-appearance",
   "metadata": {},
   "source": [
    "___"
   ]
  },
  {
   "cell_type": "code",
   "execution_count": 7,
   "id": "related-workstation",
   "metadata": {},
   "outputs": [],
   "source": [
    "# To create a new branch \n",
    "# git branch <branch-name>\n",
    "\n",
    "# If you want to switch to an existing branch.\n",
    "# git checkout <existing_branch>\n",
    "\n",
    "# To create a new branch and to switch to that branch.\n",
    "# git checkout -b <new_branch>\n",
    "\n",
    "# To see all the branches and which branch you are working on\n",
    "# git branch"
   ]
  },
  {
   "cell_type": "code",
   "execution_count": 4,
   "id": "differential-payday",
   "metadata": {},
   "outputs": [],
   "source": [
    "# I created a test.txt file \n",
    "# git add test.txt < Add this to staging area \n",
    "# git add . < All the modified ones."
   ]
  },
  {
   "cell_type": "code",
   "execution_count": 8,
   "id": "complicated-david",
   "metadata": {},
   "outputs": [],
   "source": [
    "# Commit and put this changes to the database.\n",
    "# git commit -m \"Add test.txt file\" < we can comment"
   ]
  },
  {
   "cell_type": "code",
   "execution_count": 9,
   "id": "accomplished-percentage",
   "metadata": {},
   "outputs": [],
   "source": [
    "# Get the changes.\n",
    "# git pull origin master"
   ]
  },
  {
   "cell_type": "code",
   "execution_count": 10,
   "id": "another-occurrence",
   "metadata": {},
   "outputs": [],
   "source": [
    "# Commit our version to master. Means merge with master.\n",
    "# git merge new_branch\n",
    "\n",
    "# Push the changes to the main server.\n",
    "# git push"
   ]
  }
 ],
 "metadata": {
  "kernelspec": {
   "display_name": "Python 3",
   "language": "python",
   "name": "python3"
  },
  "language_info": {
   "codemirror_mode": {
    "name": "ipython",
    "version": 3
   },
   "file_extension": ".py",
   "mimetype": "text/x-python",
   "name": "python",
   "nbconvert_exporter": "python",
   "pygments_lexer": "ipython3",
   "version": "3.6.9"
  }
 },
 "nbformat": 4,
 "nbformat_minor": 5
}
